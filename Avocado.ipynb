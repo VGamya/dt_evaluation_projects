{
 "cells": [
  {
   "cell_type": "code",
   "execution_count": 78,
   "metadata": {},
   "outputs": [],
   "source": [
    "import pandas as pd\n",
    "import numpy as np\n",
    "import matplotlib.pyplot as plt\n",
    "import seaborn as sns\n",
    "import warnings\n",
    "warnings.filterwarnings('ignore')\n",
    "from sklearn.metrics import accuracy_score,classification_report,confusion_matrix,roc_auc_score,roc_curve\n",
    "from sklearn.linear_model import LogisticRegression\n",
    "from sklearn.naive_bayes import GaussianNB\n",
    "from sklearn.neighbors import KNeighborsClassifier\n",
    "from sklearn.svm import SVC\n",
    "from sklearn.tree import DecisionTreeClassifier   \n",
    "from sklearn.ensemble import AdaBoostClassifier,gradient_boosting\n",
    "from sklearn.preprocessing import LabelEncoder,StandardScaler\n",
    "from sklearn.model_selection import cross_val_score,train_test_split,GridSearchCV\n",
    "from sklearn.decomposition import PCA\n",
    "from scipy.stats import zscore"
   ]
  },
  {
   "cell_type": "code",
   "execution_count": 79,
   "metadata": {},
   "outputs": [
    {
     "data": {
      "text/html": [
       "<div>\n",
       "<style scoped>\n",
       "    .dataframe tbody tr th:only-of-type {\n",
       "        vertical-align: middle;\n",
       "    }\n",
       "\n",
       "    .dataframe tbody tr th {\n",
       "        vertical-align: top;\n",
       "    }\n",
       "\n",
       "    .dataframe thead th {\n",
       "        text-align: right;\n",
       "    }\n",
       "</style>\n",
       "<table border=\"1\" class=\"dataframe\">\n",
       "  <thead>\n",
       "    <tr style=\"text-align: right;\">\n",
       "      <th></th>\n",
       "      <th>Unnamed: 0</th>\n",
       "      <th>Date</th>\n",
       "      <th>AveragePrice</th>\n",
       "      <th>Total Volume</th>\n",
       "      <th>4046</th>\n",
       "      <th>4225</th>\n",
       "      <th>4770</th>\n",
       "      <th>Total Bags</th>\n",
       "      <th>Small Bags</th>\n",
       "      <th>Large Bags</th>\n",
       "      <th>XLarge Bags</th>\n",
       "      <th>type</th>\n",
       "      <th>year</th>\n",
       "      <th>region</th>\n",
       "    </tr>\n",
       "  </thead>\n",
       "  <tbody>\n",
       "    <tr>\n",
       "      <th>0</th>\n",
       "      <td>0</td>\n",
       "      <td>2015-12-27</td>\n",
       "      <td>1.33</td>\n",
       "      <td>64236.62</td>\n",
       "      <td>1036.74</td>\n",
       "      <td>54454.85</td>\n",
       "      <td>48.16</td>\n",
       "      <td>8696.87</td>\n",
       "      <td>8603.62</td>\n",
       "      <td>93.25</td>\n",
       "      <td>0.0</td>\n",
       "      <td>conventional</td>\n",
       "      <td>2015</td>\n",
       "      <td>Albany</td>\n",
       "    </tr>\n",
       "    <tr>\n",
       "      <th>1</th>\n",
       "      <td>1</td>\n",
       "      <td>2015-12-20</td>\n",
       "      <td>1.35</td>\n",
       "      <td>54876.98</td>\n",
       "      <td>674.28</td>\n",
       "      <td>44638.81</td>\n",
       "      <td>58.33</td>\n",
       "      <td>9505.56</td>\n",
       "      <td>9408.07</td>\n",
       "      <td>97.49</td>\n",
       "      <td>0.0</td>\n",
       "      <td>conventional</td>\n",
       "      <td>2015</td>\n",
       "      <td>Albany</td>\n",
       "    </tr>\n",
       "    <tr>\n",
       "      <th>2</th>\n",
       "      <td>2</td>\n",
       "      <td>2015-12-13</td>\n",
       "      <td>0.93</td>\n",
       "      <td>118220.22</td>\n",
       "      <td>794.70</td>\n",
       "      <td>109149.67</td>\n",
       "      <td>130.50</td>\n",
       "      <td>8145.35</td>\n",
       "      <td>8042.21</td>\n",
       "      <td>103.14</td>\n",
       "      <td>0.0</td>\n",
       "      <td>conventional</td>\n",
       "      <td>2015</td>\n",
       "      <td>Albany</td>\n",
       "    </tr>\n",
       "    <tr>\n",
       "      <th>3</th>\n",
       "      <td>3</td>\n",
       "      <td>2015-12-06</td>\n",
       "      <td>1.08</td>\n",
       "      <td>78992.15</td>\n",
       "      <td>1132.00</td>\n",
       "      <td>71976.41</td>\n",
       "      <td>72.58</td>\n",
       "      <td>5811.16</td>\n",
       "      <td>5677.40</td>\n",
       "      <td>133.76</td>\n",
       "      <td>0.0</td>\n",
       "      <td>conventional</td>\n",
       "      <td>2015</td>\n",
       "      <td>Albany</td>\n",
       "    </tr>\n",
       "    <tr>\n",
       "      <th>4</th>\n",
       "      <td>4</td>\n",
       "      <td>2015-11-29</td>\n",
       "      <td>1.28</td>\n",
       "      <td>51039.60</td>\n",
       "      <td>941.48</td>\n",
       "      <td>43838.39</td>\n",
       "      <td>75.78</td>\n",
       "      <td>6183.95</td>\n",
       "      <td>5986.26</td>\n",
       "      <td>197.69</td>\n",
       "      <td>0.0</td>\n",
       "      <td>conventional</td>\n",
       "      <td>2015</td>\n",
       "      <td>Albany</td>\n",
       "    </tr>\n",
       "  </tbody>\n",
       "</table>\n",
       "</div>"
      ],
      "text/plain": [
       "   Unnamed: 0        Date  AveragePrice  Total Volume     4046       4225  \\\n",
       "0           0  2015-12-27          1.33      64236.62  1036.74   54454.85   \n",
       "1           1  2015-12-20          1.35      54876.98   674.28   44638.81   \n",
       "2           2  2015-12-13          0.93     118220.22   794.70  109149.67   \n",
       "3           3  2015-12-06          1.08      78992.15  1132.00   71976.41   \n",
       "4           4  2015-11-29          1.28      51039.60   941.48   43838.39   \n",
       "\n",
       "     4770  Total Bags  Small Bags  Large Bags  XLarge Bags          type  \\\n",
       "0   48.16     8696.87     8603.62       93.25          0.0  conventional   \n",
       "1   58.33     9505.56     9408.07       97.49          0.0  conventional   \n",
       "2  130.50     8145.35     8042.21      103.14          0.0  conventional   \n",
       "3   72.58     5811.16     5677.40      133.76          0.0  conventional   \n",
       "4   75.78     6183.95     5986.26      197.69          0.0  conventional   \n",
       "\n",
       "   year  region  \n",
       "0  2015  Albany  \n",
       "1  2015  Albany  \n",
       "2  2015  Albany  \n",
       "3  2015  Albany  \n",
       "4  2015  Albany  "
      ]
     },
     "execution_count": 79,
     "metadata": {},
     "output_type": "execute_result"
    }
   ],
   "source": [
    "df = pd.read_csv(\"avocado.csv\")\n",
    "df.head()"
   ]
  },
  {
   "cell_type": "code",
   "execution_count": 80,
   "metadata": {},
   "outputs": [
    {
     "data": {
      "text/html": [
       "<div>\n",
       "<style scoped>\n",
       "    .dataframe tbody tr th:only-of-type {\n",
       "        vertical-align: middle;\n",
       "    }\n",
       "\n",
       "    .dataframe tbody tr th {\n",
       "        vertical-align: top;\n",
       "    }\n",
       "\n",
       "    .dataframe thead th {\n",
       "        text-align: right;\n",
       "    }\n",
       "</style>\n",
       "<table border=\"1\" class=\"dataframe\">\n",
       "  <thead>\n",
       "    <tr style=\"text-align: right;\">\n",
       "      <th></th>\n",
       "      <th>Date</th>\n",
       "      <th>AveragePrice</th>\n",
       "      <th>Total Volume</th>\n",
       "      <th>4046</th>\n",
       "      <th>4225</th>\n",
       "      <th>4770</th>\n",
       "      <th>Total Bags</th>\n",
       "      <th>Small Bags</th>\n",
       "      <th>Large Bags</th>\n",
       "      <th>XLarge Bags</th>\n",
       "      <th>type</th>\n",
       "      <th>year</th>\n",
       "      <th>region</th>\n",
       "    </tr>\n",
       "  </thead>\n",
       "  <tbody>\n",
       "    <tr>\n",
       "      <th>0</th>\n",
       "      <td>2015-12-27</td>\n",
       "      <td>1.33</td>\n",
       "      <td>64236.62</td>\n",
       "      <td>1036.74</td>\n",
       "      <td>54454.85</td>\n",
       "      <td>48.16</td>\n",
       "      <td>8696.87</td>\n",
       "      <td>8603.62</td>\n",
       "      <td>93.25</td>\n",
       "      <td>0.0</td>\n",
       "      <td>conventional</td>\n",
       "      <td>2015</td>\n",
       "      <td>Albany</td>\n",
       "    </tr>\n",
       "    <tr>\n",
       "      <th>1</th>\n",
       "      <td>2015-12-20</td>\n",
       "      <td>1.35</td>\n",
       "      <td>54876.98</td>\n",
       "      <td>674.28</td>\n",
       "      <td>44638.81</td>\n",
       "      <td>58.33</td>\n",
       "      <td>9505.56</td>\n",
       "      <td>9408.07</td>\n",
       "      <td>97.49</td>\n",
       "      <td>0.0</td>\n",
       "      <td>conventional</td>\n",
       "      <td>2015</td>\n",
       "      <td>Albany</td>\n",
       "    </tr>\n",
       "    <tr>\n",
       "      <th>2</th>\n",
       "      <td>2015-12-13</td>\n",
       "      <td>0.93</td>\n",
       "      <td>118220.22</td>\n",
       "      <td>794.70</td>\n",
       "      <td>109149.67</td>\n",
       "      <td>130.50</td>\n",
       "      <td>8145.35</td>\n",
       "      <td>8042.21</td>\n",
       "      <td>103.14</td>\n",
       "      <td>0.0</td>\n",
       "      <td>conventional</td>\n",
       "      <td>2015</td>\n",
       "      <td>Albany</td>\n",
       "    </tr>\n",
       "    <tr>\n",
       "      <th>3</th>\n",
       "      <td>2015-12-06</td>\n",
       "      <td>1.08</td>\n",
       "      <td>78992.15</td>\n",
       "      <td>1132.00</td>\n",
       "      <td>71976.41</td>\n",
       "      <td>72.58</td>\n",
       "      <td>5811.16</td>\n",
       "      <td>5677.40</td>\n",
       "      <td>133.76</td>\n",
       "      <td>0.0</td>\n",
       "      <td>conventional</td>\n",
       "      <td>2015</td>\n",
       "      <td>Albany</td>\n",
       "    </tr>\n",
       "    <tr>\n",
       "      <th>4</th>\n",
       "      <td>2015-11-29</td>\n",
       "      <td>1.28</td>\n",
       "      <td>51039.60</td>\n",
       "      <td>941.48</td>\n",
       "      <td>43838.39</td>\n",
       "      <td>75.78</td>\n",
       "      <td>6183.95</td>\n",
       "      <td>5986.26</td>\n",
       "      <td>197.69</td>\n",
       "      <td>0.0</td>\n",
       "      <td>conventional</td>\n",
       "      <td>2015</td>\n",
       "      <td>Albany</td>\n",
       "    </tr>\n",
       "  </tbody>\n",
       "</table>\n",
       "</div>"
      ],
      "text/plain": [
       "         Date  AveragePrice  Total Volume     4046       4225    4770  \\\n",
       "0  2015-12-27          1.33      64236.62  1036.74   54454.85   48.16   \n",
       "1  2015-12-20          1.35      54876.98   674.28   44638.81   58.33   \n",
       "2  2015-12-13          0.93     118220.22   794.70  109149.67  130.50   \n",
       "3  2015-12-06          1.08      78992.15  1132.00   71976.41   72.58   \n",
       "4  2015-11-29          1.28      51039.60   941.48   43838.39   75.78   \n",
       "\n",
       "   Total Bags  Small Bags  Large Bags  XLarge Bags          type  year  region  \n",
       "0     8696.87     8603.62       93.25          0.0  conventional  2015  Albany  \n",
       "1     9505.56     9408.07       97.49          0.0  conventional  2015  Albany  \n",
       "2     8145.35     8042.21      103.14          0.0  conventional  2015  Albany  \n",
       "3     5811.16     5677.40      133.76          0.0  conventional  2015  Albany  \n",
       "4     6183.95     5986.26      197.69          0.0  conventional  2015  Albany  "
      ]
     },
     "execution_count": 80,
     "metadata": {},
     "output_type": "execute_result"
    }
   ],
   "source": [
    "df.drop('Unnamed: 0',inplace=True,axis=1)\n",
    "df.head()"
   ]
  },
  {
   "cell_type": "code",
   "execution_count": 81,
   "metadata": {},
   "outputs": [
    {
     "data": {
      "text/plain": [
       "Date             object\n",
       "AveragePrice    float64\n",
       "Total Volume    float64\n",
       "4046            float64\n",
       "4225            float64\n",
       "4770            float64\n",
       "Total Bags      float64\n",
       "Small Bags      float64\n",
       "Large Bags      float64\n",
       "XLarge Bags     float64\n",
       "type             object\n",
       "year              int64\n",
       "region           object\n",
       "dtype: object"
      ]
     },
     "execution_count": 81,
     "metadata": {},
     "output_type": "execute_result"
    }
   ],
   "source": [
    "df.dtypes"
   ]
  },
  {
   "cell_type": "code",
   "execution_count": 82,
   "metadata": {},
   "outputs": [
    {
     "data": {
      "text/plain": [
       "(18249, 13)"
      ]
     },
     "execution_count": 82,
     "metadata": {},
     "output_type": "execute_result"
    }
   ],
   "source": [
    "df.shape"
   ]
  },
  {
   "cell_type": "code",
   "execution_count": 83,
   "metadata": {},
   "outputs": [
    {
     "data": {
      "text/plain": [
       "Index(['Date', 'AveragePrice', 'Total Volume', '4046', '4225', '4770',\n",
       "       'Total Bags', 'Small Bags', 'Large Bags', 'XLarge Bags', 'type', 'year',\n",
       "       'region'],\n",
       "      dtype='object')"
      ]
     },
     "execution_count": 83,
     "metadata": {},
     "output_type": "execute_result"
    }
   ],
   "source": [
    "df.columns"
   ]
  },
  {
   "cell_type": "code",
   "execution_count": 84,
   "metadata": {},
   "outputs": [
    {
     "data": {
      "text/plain": [
       "Date             object\n",
       "AveragePrice    float64\n",
       "Total Volume    float64\n",
       "4046            float64\n",
       "4225            float64\n",
       "4770            float64\n",
       "Total Bags      float64\n",
       "Small Bags      float64\n",
       "Large Bags      float64\n",
       "XLarge Bags     float64\n",
       "type             object\n",
       "year              int64\n",
       "region           object\n",
       "dtype: object"
      ]
     },
     "execution_count": 84,
     "metadata": {},
     "output_type": "execute_result"
    }
   ],
   "source": [
    "df.dtypes"
   ]
  },
  {
   "cell_type": "code",
   "execution_count": 85,
   "metadata": {},
   "outputs": [
    {
     "data": {
      "text/plain": [
       "Date            0\n",
       "AveragePrice    0\n",
       "Total Volume    0\n",
       "4046            0\n",
       "4225            0\n",
       "4770            0\n",
       "Total Bags      0\n",
       "Small Bags      0\n",
       "Large Bags      0\n",
       "XLarge Bags     0\n",
       "type            0\n",
       "year            0\n",
       "region          0\n",
       "dtype: int64"
      ]
     },
     "execution_count": 85,
     "metadata": {},
     "output_type": "execute_result"
    }
   ],
   "source": [
    "df.isnull().sum()"
   ]
  },
  {
   "cell_type": "code",
   "execution_count": 86,
   "metadata": {},
   "outputs": [
    {
     "data": {
      "text/plain": [
       "year  type        \n",
       "2015  conventional    2808\n",
       "      organic         2807\n",
       "2016  conventional    2808\n",
       "      organic         2808\n",
       "2017  conventional    2862\n",
       "      organic         2860\n",
       "2018  conventional     648\n",
       "      organic          648\n",
       "Name: type, dtype: int64"
      ]
     },
     "execution_count": 86,
     "metadata": {},
     "output_type": "execute_result"
    }
   ],
   "source": [
    "df.groupby('year')['type'].value_counts()"
   ]
  },
  {
   "cell_type": "markdown",
   "metadata": {},
   "source": [
    " Both type of avocado is present almost in same amount in the data set."
   ]
  },
  {
   "cell_type": "code",
   "execution_count": 87,
   "metadata": {},
   "outputs": [
    {
     "data": {
      "text/html": [
       "<div>\n",
       "<style scoped>\n",
       "    .dataframe tbody tr th:only-of-type {\n",
       "        vertical-align: middle;\n",
       "    }\n",
       "\n",
       "    .dataframe tbody tr th {\n",
       "        vertical-align: top;\n",
       "    }\n",
       "\n",
       "    .dataframe thead th {\n",
       "        text-align: right;\n",
       "    }\n",
       "</style>\n",
       "<table border=\"1\" class=\"dataframe\">\n",
       "  <thead>\n",
       "    <tr style=\"text-align: right;\">\n",
       "      <th></th>\n",
       "      <th>AveragePrice</th>\n",
       "      <th>Total Volume</th>\n",
       "      <th>4046</th>\n",
       "      <th>4225</th>\n",
       "      <th>4770</th>\n",
       "      <th>Total Bags</th>\n",
       "      <th>Small Bags</th>\n",
       "      <th>Large Bags</th>\n",
       "      <th>XLarge Bags</th>\n",
       "      <th>year</th>\n",
       "    </tr>\n",
       "  </thead>\n",
       "  <tbody>\n",
       "    <tr>\n",
       "      <th>count</th>\n",
       "      <td>18249.000000</td>\n",
       "      <td>1.824900e+04</td>\n",
       "      <td>1.824900e+04</td>\n",
       "      <td>1.824900e+04</td>\n",
       "      <td>1.824900e+04</td>\n",
       "      <td>1.824900e+04</td>\n",
       "      <td>1.824900e+04</td>\n",
       "      <td>1.824900e+04</td>\n",
       "      <td>18249.000000</td>\n",
       "      <td>18249.000000</td>\n",
       "    </tr>\n",
       "    <tr>\n",
       "      <th>mean</th>\n",
       "      <td>1.405978</td>\n",
       "      <td>8.506440e+05</td>\n",
       "      <td>2.930084e+05</td>\n",
       "      <td>2.951546e+05</td>\n",
       "      <td>2.283974e+04</td>\n",
       "      <td>2.396392e+05</td>\n",
       "      <td>1.821947e+05</td>\n",
       "      <td>5.433809e+04</td>\n",
       "      <td>3106.426507</td>\n",
       "      <td>2016.147899</td>\n",
       "    </tr>\n",
       "    <tr>\n",
       "      <th>std</th>\n",
       "      <td>0.402677</td>\n",
       "      <td>3.453545e+06</td>\n",
       "      <td>1.264989e+06</td>\n",
       "      <td>1.204120e+06</td>\n",
       "      <td>1.074641e+05</td>\n",
       "      <td>9.862424e+05</td>\n",
       "      <td>7.461785e+05</td>\n",
       "      <td>2.439660e+05</td>\n",
       "      <td>17692.894652</td>\n",
       "      <td>0.939938</td>\n",
       "    </tr>\n",
       "    <tr>\n",
       "      <th>min</th>\n",
       "      <td>0.440000</td>\n",
       "      <td>8.456000e+01</td>\n",
       "      <td>0.000000e+00</td>\n",
       "      <td>0.000000e+00</td>\n",
       "      <td>0.000000e+00</td>\n",
       "      <td>0.000000e+00</td>\n",
       "      <td>0.000000e+00</td>\n",
       "      <td>0.000000e+00</td>\n",
       "      <td>0.000000</td>\n",
       "      <td>2015.000000</td>\n",
       "    </tr>\n",
       "    <tr>\n",
       "      <th>25%</th>\n",
       "      <td>1.100000</td>\n",
       "      <td>1.083858e+04</td>\n",
       "      <td>8.540700e+02</td>\n",
       "      <td>3.008780e+03</td>\n",
       "      <td>0.000000e+00</td>\n",
       "      <td>5.088640e+03</td>\n",
       "      <td>2.849420e+03</td>\n",
       "      <td>1.274700e+02</td>\n",
       "      <td>0.000000</td>\n",
       "      <td>2015.000000</td>\n",
       "    </tr>\n",
       "    <tr>\n",
       "      <th>50%</th>\n",
       "      <td>1.370000</td>\n",
       "      <td>1.073768e+05</td>\n",
       "      <td>8.645300e+03</td>\n",
       "      <td>2.906102e+04</td>\n",
       "      <td>1.849900e+02</td>\n",
       "      <td>3.974383e+04</td>\n",
       "      <td>2.636282e+04</td>\n",
       "      <td>2.647710e+03</td>\n",
       "      <td>0.000000</td>\n",
       "      <td>2016.000000</td>\n",
       "    </tr>\n",
       "    <tr>\n",
       "      <th>75%</th>\n",
       "      <td>1.660000</td>\n",
       "      <td>4.329623e+05</td>\n",
       "      <td>1.110202e+05</td>\n",
       "      <td>1.502069e+05</td>\n",
       "      <td>6.243420e+03</td>\n",
       "      <td>1.107834e+05</td>\n",
       "      <td>8.333767e+04</td>\n",
       "      <td>2.202925e+04</td>\n",
       "      <td>132.500000</td>\n",
       "      <td>2017.000000</td>\n",
       "    </tr>\n",
       "    <tr>\n",
       "      <th>max</th>\n",
       "      <td>3.250000</td>\n",
       "      <td>6.250565e+07</td>\n",
       "      <td>2.274362e+07</td>\n",
       "      <td>2.047057e+07</td>\n",
       "      <td>2.546439e+06</td>\n",
       "      <td>1.937313e+07</td>\n",
       "      <td>1.338459e+07</td>\n",
       "      <td>5.719097e+06</td>\n",
       "      <td>551693.650000</td>\n",
       "      <td>2018.000000</td>\n",
       "    </tr>\n",
       "  </tbody>\n",
       "</table>\n",
       "</div>"
      ],
      "text/plain": [
       "       AveragePrice  Total Volume          4046          4225          4770  \\\n",
       "count  18249.000000  1.824900e+04  1.824900e+04  1.824900e+04  1.824900e+04   \n",
       "mean       1.405978  8.506440e+05  2.930084e+05  2.951546e+05  2.283974e+04   \n",
       "std        0.402677  3.453545e+06  1.264989e+06  1.204120e+06  1.074641e+05   \n",
       "min        0.440000  8.456000e+01  0.000000e+00  0.000000e+00  0.000000e+00   \n",
       "25%        1.100000  1.083858e+04  8.540700e+02  3.008780e+03  0.000000e+00   \n",
       "50%        1.370000  1.073768e+05  8.645300e+03  2.906102e+04  1.849900e+02   \n",
       "75%        1.660000  4.329623e+05  1.110202e+05  1.502069e+05  6.243420e+03   \n",
       "max        3.250000  6.250565e+07  2.274362e+07  2.047057e+07  2.546439e+06   \n",
       "\n",
       "         Total Bags    Small Bags    Large Bags    XLarge Bags          year  \n",
       "count  1.824900e+04  1.824900e+04  1.824900e+04   18249.000000  18249.000000  \n",
       "mean   2.396392e+05  1.821947e+05  5.433809e+04    3106.426507   2016.147899  \n",
       "std    9.862424e+05  7.461785e+05  2.439660e+05   17692.894652      0.939938  \n",
       "min    0.000000e+00  0.000000e+00  0.000000e+00       0.000000   2015.000000  \n",
       "25%    5.088640e+03  2.849420e+03  1.274700e+02       0.000000   2015.000000  \n",
       "50%    3.974383e+04  2.636282e+04  2.647710e+03       0.000000   2016.000000  \n",
       "75%    1.107834e+05  8.333767e+04  2.202925e+04     132.500000   2017.000000  \n",
       "max    1.937313e+07  1.338459e+07  5.719097e+06  551693.650000   2018.000000  "
      ]
     },
     "execution_count": 87,
     "metadata": {},
     "output_type": "execute_result"
    }
   ],
   "source": [
    "df.describe()"
   ]
  },
  {
   "cell_type": "code",
   "execution_count": 88,
   "metadata": {},
   "outputs": [
    {
     "data": {
      "text/plain": [
       "<matplotlib.axes._subplots.AxesSubplot at 0x210ebdb1790>"
      ]
     },
     "execution_count": 88,
     "metadata": {},
     "output_type": "execute_result"
    },
    {
     "data": {
      "image/png": "[encoded data removed]",
      "text/plain": [
       "<Figure size 432x288 with 1 Axes>"
      ]
     },
     "metadata": {
      "needs_background": "light"
     },
     "output_type": "display_data"
    }
   ],
   "source": [
    "#checking ratio of year and price \n",
    "sns.barplot(x='year',y='AveragePrice',data=df)"
   ]
  },
  {
   "cell_type": "markdown",
   "metadata": {},
   "source": [
    "We could observe that in year 2017 the price of avocados are maximum compare to others"
   ]
  },
  {
   "cell_type": "code",
   "execution_count": 89,
   "metadata": {},
   "outputs": [
    {
     "data": {
      "text/plain": [
       "array([[<matplotlib.axes._subplots.AxesSubplot object at 0x00000210E855C520>,\n",
       "        <matplotlib.axes._subplots.AxesSubplot object at 0x00000210E8E6D580>,\n",
       "        <matplotlib.axes._subplots.AxesSubplot object at 0x00000210E8E39DC0>,\n",
       "        <matplotlib.axes._subplots.AxesSubplot object at 0x00000210E9D76550>],\n",
       "       [<matplotlib.axes._subplots.AxesSubplot object at 0x00000210E8569B50>,\n",
       "        <matplotlib.axes._subplots.AxesSubplot object at 0x00000210E9CEB1F0>,\n",
       "        <matplotlib.axes._subplots.AxesSubplot object at 0x00000210E9CEB2E0>,\n",
       "        <matplotlib.axes._subplots.AxesSubplot object at 0x00000210E8C3BAC0>],\n",
       "       [<matplotlib.axes._subplots.AxesSubplot object at 0x00000210E85ED970>,\n",
       "        <matplotlib.axes._subplots.AxesSubplot object at 0x00000210E853E130>,\n",
       "        <matplotlib.axes._subplots.AxesSubplot object at 0x00000210E8C937F0>,\n",
       "        <matplotlib.axes._subplots.AxesSubplot object at 0x00000210E8CAD160>],\n",
       "       [<matplotlib.axes._subplots.AxesSubplot object at 0x00000210E9D288E0>,\n",
       "        <matplotlib.axes._subplots.AxesSubplot object at 0x00000210E876C0A0>,\n",
       "        <matplotlib.axes._subplots.AxesSubplot object at 0x00000210E86D5820>,\n",
       "        <matplotlib.axes._subplots.AxesSubplot object at 0x00000210E8677FA0>]],\n",
       "      dtype=object)"
      ]
     },
     "execution_count": 89,
     "metadata": {},
     "output_type": "execute_result"
    },
    {
     "data": {
      "image/png": "[encoded data removed]",
      "text/plain": [
       "<Figure size 720x720 with 16 Axes>"
      ]
     },
     "metadata": {
      "needs_background": "light"
     },
     "output_type": "display_data"
    }
   ],
   "source": [
    "#Plotting histogram to check the skewness of the data\n",
    "df.hist(figsize=(10,10),grid=True,layout=(4,4),bins=20)"
   ]
  },
  {
   "cell_type": "markdown",
   "metadata": {},
   "source": [
    "Average price column is normally distributing over the histogram.\n",
    "Rest of the data almost left skewed data"
   ]
  },
  {
   "cell_type": "code",
   "execution_count": 90,
   "metadata": {},
   "outputs": [
    {
     "data": {
      "text/plain": [
       "AveragePrice     0.580303\n",
       "Total Volume     9.007687\n",
       "4046             8.648220\n",
       "4225             8.942466\n",
       "4770            10.159396\n",
       "Total Bags       9.756072\n",
       "Small Bags       9.540660\n",
       "Large Bags       9.796455\n",
       "XLarge Bags     13.139751\n",
       "year             0.215339\n",
       "dtype: float64"
      ]
     },
     "execution_count": 90,
     "metadata": {},
     "output_type": "execute_result"
    }
   ],
   "source": [
    "df.skew()"
   ]
  },
  {
   "cell_type": "code",
   "execution_count": 91,
   "metadata": {},
   "outputs": [],
   "source": [
    "#making the skewness less than or equal to 0.5 for better prediction and to get normal distribution graph\n",
    "skew=('4046','4225','4770','Large Bags','Small Bags','Total Bags','Total Volume','XLarge Bags')\n",
    "for col in skew:\n",
    "    if df.skew().loc[col]>0.5:\n",
    "        df[col]=np.log1p(df[col])"
   ]
  },
  {
   "cell_type": "code",
   "execution_count": 92,
   "metadata": {},
   "outputs": [],
   "source": [
    "#Transform non-numerical into numerical columns\n",
    "from sklearn.preprocessing import LabelEncoder\n",
    "for column in df.columns:\n",
    "  if df[column].dtype == np.number:\n",
    "    continue\n",
    "  df[column] = LabelEncoder().fit_transform(df[column])"
   ]
  },
  {
   "cell_type": "code",
   "execution_count": 93,
   "metadata": {},
   "outputs": [
    {
     "data": {
      "image/png": "[encoded data removed]",
      "text/plain": [
       "<Figure size 1080x3600 with 13 Axes>"
      ]
     },
     "metadata": {
      "needs_background": "light"
     },
     "output_type": "display_data"
    }
   ],
   "source": [
    "#Visualize the outliers using boxplot\n",
    "import matplotlib.pyplot as plt\n",
    "plt.figure(figsize=(15,50))\n",
    "graph=1\n",
    "for column in df:\n",
    "    if graph<=30:\n",
    "        ax=plt.subplot(10,3,graph)\n",
    "        sns.boxplot(df[column],orient='v')\n",
    "        plt.xlabel(column,fontsize=10)\n",
    "    graph+=1\n",
    "plt.show()"
   ]
  },
  {
   "cell_type": "code",
   "execution_count": 94,
   "metadata": {},
   "outputs": [
    {
     "data": {
      "text/plain": [
       "(18249, 13)"
      ]
     },
     "execution_count": 94,
     "metadata": {},
     "output_type": "execute_result"
    }
   ],
   "source": [
    "df.shape"
   ]
  },
  {
   "cell_type": "code",
   "execution_count": 95,
   "metadata": {},
   "outputs": [],
   "source": [
    "#for removing outliers implementing zscore\n",
    "from scipy.stats import zscore\n",
    "z_score=zscore(df[['AveragePrice','4225','Total Bags','Small Bags','XLarge Bags']])\n",
    "abs_z_score=np.abs(z_score)\n",
    "\n",
    "filtering_entry=(abs_z_score<3).all(axis=1)\n",
    "\n",
    "df=df[filtering_entry]"
   ]
  },
  {
   "cell_type": "code",
   "execution_count": 96,
   "metadata": {},
   "outputs": [
    {
     "data": {
      "text/plain": [
       "(17834, 13)"
      ]
     },
     "execution_count": 96,
     "metadata": {},
     "output_type": "execute_result"
    }
   ],
   "source": [
    "df.shape"
   ]
  },
  {
   "cell_type": "code",
   "execution_count": 97,
   "metadata": {},
   "outputs": [
    {
     "data": {
      "image/png": "[encoded data removed]",
      "text/plain": [
       "<Figure size 1080x3600 with 13 Axes>"
      ]
     },
     "metadata": {
      "needs_background": "light"
     },
     "output_type": "display_data"
    }
   ],
   "source": [
    "#Visualize the outliers using boxplot\n",
    "import matplotlib.pyplot as plt\n",
    "plt.figure(figsize=(15,50))\n",
    "graph=1\n",
    "for column in df:\n",
    "    if graph<=30:\n",
    "        ax=plt.subplot(10,3,graph)\n",
    "        sns.boxplot(df[column],orient='v')\n",
    "        plt.xlabel(column,fontsize=10)\n",
    "    graph+=1\n",
    "plt.show()"
   ]
  },
  {
   "cell_type": "code",
   "execution_count": 98,
   "metadata": {},
   "outputs": [],
   "source": [
    "#for removing outliers implementing zscore\n",
    "from scipy.stats import zscore\n",
    "z_score=zscore(df[['AveragePrice','4225','Total Bags','Small Bags']])\n",
    "abs_z_score=np.abs(z_score)\n",
    "\n",
    "filtering_entry=(abs_z_score<3).all(axis=1)\n",
    "\n",
    "df=df[filtering_entry]"
   ]
  },
  {
   "cell_type": "code",
   "execution_count": 99,
   "metadata": {},
   "outputs": [
    {
     "data": {
      "text/plain": [
       "(17742, 13)"
      ]
     },
     "execution_count": 99,
     "metadata": {},
     "output_type": "execute_result"
    }
   ],
   "source": [
    "df.shape"
   ]
  },
  {
   "cell_type": "code",
   "execution_count": 100,
   "metadata": {},
   "outputs": [],
   "source": [
    "#for removing outliers implementing zscore\n",
    "from scipy.stats import zscore\n",
    "z_score=zscore(df[['AveragePrice','4225','Total Bags','Small Bags']])\n",
    "abs_z_score=np.abs(z_score)\n",
    "\n",
    "filtering_entry=(abs_z_score<3).all(axis=1)\n",
    "\n",
    "df=df[filtering_entry]"
   ]
  },
  {
   "cell_type": "code",
   "execution_count": 101,
   "metadata": {},
   "outputs": [
    {
     "data": {
      "text/plain": [
       "(17712, 13)"
      ]
     },
     "execution_count": 101,
     "metadata": {},
     "output_type": "execute_result"
    }
   ],
   "source": [
    "df.shape"
   ]
  },
  {
   "cell_type": "code",
   "execution_count": 102,
   "metadata": {},
   "outputs": [
    {
     "data": {
      "text/html": [
       "<div>\n",
       "<style scoped>\n",
       "    .dataframe tbody tr th:only-of-type {\n",
       "        vertical-align: middle;\n",
       "    }\n",
       "\n",
       "    .dataframe tbody tr th {\n",
       "        vertical-align: top;\n",
       "    }\n",
       "\n",
       "    .dataframe thead th {\n",
       "        text-align: right;\n",
       "    }\n",
       "</style>\n",
       "<table border=\"1\" class=\"dataframe\">\n",
       "  <thead>\n",
       "    <tr style=\"text-align: right;\">\n",
       "      <th></th>\n",
       "      <th>Date</th>\n",
       "      <th>AveragePrice</th>\n",
       "      <th>Total Volume</th>\n",
       "      <th>4046</th>\n",
       "      <th>4225</th>\n",
       "      <th>4770</th>\n",
       "      <th>Total Bags</th>\n",
       "      <th>Small Bags</th>\n",
       "      <th>Large Bags</th>\n",
       "      <th>XLarge Bags</th>\n",
       "      <th>type</th>\n",
       "      <th>year</th>\n",
       "      <th>region</th>\n",
       "    </tr>\n",
       "  </thead>\n",
       "  <tbody>\n",
       "    <tr>\n",
       "      <th>Date</th>\n",
       "      <td>1.000000</td>\n",
       "      <td>0.142699</td>\n",
       "      <td>0.071764</td>\n",
       "      <td>0.000134</td>\n",
       "      <td>-0.000573</td>\n",
       "      <td>-0.058612</td>\n",
       "      <td>0.206204</td>\n",
       "      <td>0.181085</td>\n",
       "      <td>0.184878</td>\n",
       "      <td>0.168074</td>\n",
       "      <td>0.006500</td>\n",
       "      <td>0.950081</td>\n",
       "      <td>0.008010</td>\n",
       "    </tr>\n",
       "    <tr>\n",
       "      <th>AveragePrice</th>\n",
       "      <td>0.142699</td>\n",
       "      <td>1.000000</td>\n",
       "      <td>-0.587713</td>\n",
       "      <td>-0.553867</td>\n",
       "      <td>-0.462213</td>\n",
       "      <td>-0.505991</td>\n",
       "      <td>-0.574022</td>\n",
       "      <td>-0.496520</td>\n",
       "      <td>-0.486954</td>\n",
       "      <td>-0.379802</td>\n",
       "      <td>0.619483</td>\n",
       "      <td>0.093109</td>\n",
       "      <td>-0.034165</td>\n",
       "    </tr>\n",
       "    <tr>\n",
       "      <th>Total Volume</th>\n",
       "      <td>0.071764</td>\n",
       "      <td>-0.587713</td>\n",
       "      <td>1.000000</td>\n",
       "      <td>0.886058</td>\n",
       "      <td>0.915505</td>\n",
       "      <td>0.830801</td>\n",
       "      <td>0.948358</td>\n",
       "      <td>0.915821</td>\n",
       "      <td>0.672651</td>\n",
       "      <td>0.658385</td>\n",
       "      <td>-0.792826</td>\n",
       "      <td>0.079973</td>\n",
       "      <td>0.127065</td>\n",
       "    </tr>\n",
       "    <tr>\n",
       "      <th>4046</th>\n",
       "      <td>0.000134</td>\n",
       "      <td>-0.553867</td>\n",
       "      <td>0.886058</td>\n",
       "      <td>1.000000</td>\n",
       "      <td>0.765379</td>\n",
       "      <td>0.746008</td>\n",
       "      <td>0.801549</td>\n",
       "      <td>0.783023</td>\n",
       "      <td>0.585707</td>\n",
       "      <td>0.582834</td>\n",
       "      <td>-0.718807</td>\n",
       "      <td>0.008030</td>\n",
       "      <td>0.202680</td>\n",
       "    </tr>\n",
       "    <tr>\n",
       "      <th>4225</th>\n",
       "      <td>-0.000573</td>\n",
       "      <td>-0.462213</td>\n",
       "      <td>0.915505</td>\n",
       "      <td>0.765379</td>\n",
       "      <td>1.000000</td>\n",
       "      <td>0.799940</td>\n",
       "      <td>0.815074</td>\n",
       "      <td>0.776283</td>\n",
       "      <td>0.618673</td>\n",
       "      <td>0.593788</td>\n",
       "      <td>-0.742023</td>\n",
       "      <td>0.007687</td>\n",
       "      <td>0.085639</td>\n",
       "    </tr>\n",
       "    <tr>\n",
       "      <th>4770</th>\n",
       "      <td>-0.058612</td>\n",
       "      <td>-0.505991</td>\n",
       "      <td>0.830801</td>\n",
       "      <td>0.746008</td>\n",
       "      <td>0.799940</td>\n",
       "      <td>1.000000</td>\n",
       "      <td>0.775053</td>\n",
       "      <td>0.770838</td>\n",
       "      <td>0.554942</td>\n",
       "      <td>0.638549</td>\n",
       "      <td>-0.776887</td>\n",
       "      <td>-0.051927</td>\n",
       "      <td>0.085357</td>\n",
       "    </tr>\n",
       "    <tr>\n",
       "      <th>Total Bags</th>\n",
       "      <td>0.206204</td>\n",
       "      <td>-0.574022</td>\n",
       "      <td>0.948358</td>\n",
       "      <td>0.801549</td>\n",
       "      <td>0.815074</td>\n",
       "      <td>0.775053</td>\n",
       "      <td>1.000000</td>\n",
       "      <td>0.950086</td>\n",
       "      <td>0.713183</td>\n",
       "      <td>0.638446</td>\n",
       "      <td>-0.724281</td>\n",
       "      <td>0.210084</td>\n",
       "      <td>0.134994</td>\n",
       "    </tr>\n",
       "    <tr>\n",
       "      <th>Small Bags</th>\n",
       "      <td>0.181085</td>\n",
       "      <td>-0.496520</td>\n",
       "      <td>0.915821</td>\n",
       "      <td>0.783023</td>\n",
       "      <td>0.776283</td>\n",
       "      <td>0.770838</td>\n",
       "      <td>0.950086</td>\n",
       "      <td>1.000000</td>\n",
       "      <td>0.555658</td>\n",
       "      <td>0.623135</td>\n",
       "      <td>-0.725459</td>\n",
       "      <td>0.183275</td>\n",
       "      <td>0.121614</td>\n",
       "    </tr>\n",
       "    <tr>\n",
       "      <th>Large Bags</th>\n",
       "      <td>0.184878</td>\n",
       "      <td>-0.486954</td>\n",
       "      <td>0.672651</td>\n",
       "      <td>0.585707</td>\n",
       "      <td>0.618673</td>\n",
       "      <td>0.554942</td>\n",
       "      <td>0.713183</td>\n",
       "      <td>0.555658</td>\n",
       "      <td>1.000000</td>\n",
       "      <td>0.466204</td>\n",
       "      <td>-0.495681</td>\n",
       "      <td>0.189423</td>\n",
       "      <td>0.126532</td>\n",
       "    </tr>\n",
       "    <tr>\n",
       "      <th>XLarge Bags</th>\n",
       "      <td>0.168074</td>\n",
       "      <td>-0.379802</td>\n",
       "      <td>0.658385</td>\n",
       "      <td>0.582834</td>\n",
       "      <td>0.593788</td>\n",
       "      <td>0.638549</td>\n",
       "      <td>0.638446</td>\n",
       "      <td>0.623135</td>\n",
       "      <td>0.466204</td>\n",
       "      <td>1.000000</td>\n",
       "      <td>-0.623912</td>\n",
       "      <td>0.165514</td>\n",
       "      <td>0.023307</td>\n",
       "    </tr>\n",
       "    <tr>\n",
       "      <th>type</th>\n",
       "      <td>0.006500</td>\n",
       "      <td>0.619483</td>\n",
       "      <td>-0.792826</td>\n",
       "      <td>-0.718807</td>\n",
       "      <td>-0.742023</td>\n",
       "      <td>-0.776887</td>\n",
       "      <td>-0.724281</td>\n",
       "      <td>-0.725459</td>\n",
       "      <td>-0.495681</td>\n",
       "      <td>-0.623912</td>\n",
       "      <td>1.000000</td>\n",
       "      <td>0.008534</td>\n",
       "      <td>-0.012953</td>\n",
       "    </tr>\n",
       "    <tr>\n",
       "      <th>year</th>\n",
       "      <td>0.950081</td>\n",
       "      <td>0.093109</td>\n",
       "      <td>0.079973</td>\n",
       "      <td>0.008030</td>\n",
       "      <td>0.007687</td>\n",
       "      <td>-0.051927</td>\n",
       "      <td>0.210084</td>\n",
       "      <td>0.183275</td>\n",
       "      <td>0.189423</td>\n",
       "      <td>0.165514</td>\n",
       "      <td>0.008534</td>\n",
       "      <td>1.000000</td>\n",
       "      <td>0.008443</td>\n",
       "    </tr>\n",
       "    <tr>\n",
       "      <th>region</th>\n",
       "      <td>0.008010</td>\n",
       "      <td>-0.034165</td>\n",
       "      <td>0.127065</td>\n",
       "      <td>0.202680</td>\n",
       "      <td>0.085639</td>\n",
       "      <td>0.085357</td>\n",
       "      <td>0.134994</td>\n",
       "      <td>0.121614</td>\n",
       "      <td>0.126532</td>\n",
       "      <td>0.023307</td>\n",
       "      <td>-0.012953</td>\n",
       "      <td>0.008443</td>\n",
       "      <td>1.000000</td>\n",
       "    </tr>\n",
       "  </tbody>\n",
       "</table>\n",
       "</div>"
      ],
      "text/plain": [
       "                  Date  AveragePrice  Total Volume      4046      4225  \\\n",
       "Date          1.000000      0.142699      0.071764  0.000134 -0.000573   \n",
       "AveragePrice  0.142699      1.000000     -0.587713 -0.553867 -0.462213   \n",
       "Total Volume  0.071764     -0.587713      1.000000  0.886058  0.915505   \n",
       "4046          0.000134     -0.553867      0.886058  1.000000  0.765379   \n",
       "4225         -0.000573     -0.462213      0.915505  0.765379  1.000000   \n",
       "4770         -0.058612     -0.505991      0.830801  0.746008  0.799940   \n",
       "Total Bags    0.206204     -0.574022      0.948358  0.801549  0.815074   \n",
       "Small Bags    0.181085     -0.496520      0.915821  0.783023  0.776283   \n",
       "Large Bags    0.184878     -0.486954      0.672651  0.585707  0.618673   \n",
       "XLarge Bags   0.168074     -0.379802      0.658385  0.582834  0.593788   \n",
       "type          0.006500      0.619483     -0.792826 -0.718807 -0.742023   \n",
       "year          0.950081      0.093109      0.079973  0.008030  0.007687   \n",
       "region        0.008010     -0.034165      0.127065  0.202680  0.085639   \n",
       "\n",
       "                  4770  Total Bags  Small Bags  Large Bags  XLarge Bags  \\\n",
       "Date         -0.058612    0.206204    0.181085    0.184878     0.168074   \n",
       "AveragePrice -0.505991   -0.574022   -0.496520   -0.486954    -0.379802   \n",
       "Total Volume  0.830801    0.948358    0.915821    0.672651     0.658385   \n",
       "4046          0.746008    0.801549    0.783023    0.585707     0.582834   \n",
       "4225          0.799940    0.815074    0.776283    0.618673     0.593788   \n",
       "4770          1.000000    0.775053    0.770838    0.554942     0.638549   \n",
       "Total Bags    0.775053    1.000000    0.950086    0.713183     0.638446   \n",
       "Small Bags    0.770838    0.950086    1.000000    0.555658     0.623135   \n",
       "Large Bags    0.554942    0.713183    0.555658    1.000000     0.466204   \n",
       "XLarge Bags   0.638549    0.638446    0.623135    0.466204     1.000000   \n",
       "type         -0.776887   -0.724281   -0.725459   -0.495681    -0.623912   \n",
       "year         -0.051927    0.210084    0.183275    0.189423     0.165514   \n",
       "region        0.085357    0.134994    0.121614    0.126532     0.023307   \n",
       "\n",
       "                  type      year    region  \n",
       "Date          0.006500  0.950081  0.008010  \n",
       "AveragePrice  0.619483  0.093109 -0.034165  \n",
       "Total Volume -0.792826  0.079973  0.127065  \n",
       "4046         -0.718807  0.008030  0.202680  \n",
       "4225         -0.742023  0.007687  0.085639  \n",
       "4770         -0.776887 -0.051927  0.085357  \n",
       "Total Bags   -0.724281  0.210084  0.134994  \n",
       "Small Bags   -0.725459  0.183275  0.121614  \n",
       "Large Bags   -0.495681  0.189423  0.126532  \n",
       "XLarge Bags  -0.623912  0.165514  0.023307  \n",
       "type          1.000000  0.008534 -0.012953  \n",
       "year          0.008534  1.000000  0.008443  \n",
       "region       -0.012953  0.008443  1.000000  "
      ]
     },
     "execution_count": 102,
     "metadata": {},
     "output_type": "execute_result"
    }
   ],
   "source": [
    "df.corr()"
   ]
  },
  {
   "cell_type": "code",
   "execution_count": 103,
   "metadata": {},
   "outputs": [
    {
     "data": {
      "text/plain": [
       "<function matplotlib.pyplot.plot(*args, scalex=True, scaley=True, data=None, **kwargs)>"
      ]
     },
     "execution_count": 103,
     "metadata": {},
     "output_type": "execute_result"
    },
    {
     "data": {
      "image/png": "[encoded data removed]",
      "text/plain": [
       "<Figure size 1440x1080 with 2 Axes>"
      ]
     },
     "metadata": {
      "needs_background": "light"
     },
     "output_type": "display_data"
    }
   ],
   "source": [
    "plt.figure(figsize=(20,15))\n",
    "sns.heatmap(df.corr(),annot=True)\n",
    "plt.plot"
   ]
  },
  {
   "cell_type": "code",
   "execution_count": 104,
   "metadata": {},
   "outputs": [
    {
     "data": {
      "text/html": [
       "<div>\n",
       "<style scoped>\n",
       "    .dataframe tbody tr th:only-of-type {\n",
       "        vertical-align: middle;\n",
       "    }\n",
       "\n",
       "    .dataframe tbody tr th {\n",
       "        vertical-align: top;\n",
       "    }\n",
       "\n",
       "    .dataframe thead th {\n",
       "        text-align: right;\n",
       "    }\n",
       "</style>\n",
       "<table border=\"1\" class=\"dataframe\">\n",
       "  <thead>\n",
       "    <tr style=\"text-align: right;\">\n",
       "      <th></th>\n",
       "      <th>Date</th>\n",
       "      <th>AveragePrice</th>\n",
       "      <th>Total Volume</th>\n",
       "      <th>4046</th>\n",
       "      <th>4225</th>\n",
       "      <th>4770</th>\n",
       "      <th>Total Bags</th>\n",
       "      <th>Small Bags</th>\n",
       "      <th>Large Bags</th>\n",
       "      <th>XLarge Bags</th>\n",
       "      <th>type</th>\n",
       "      <th>year</th>\n",
       "      <th>region</th>\n",
       "    </tr>\n",
       "  </thead>\n",
       "  <tbody>\n",
       "    <tr>\n",
       "      <th>0</th>\n",
       "      <td>51</td>\n",
       "      <td>1.33</td>\n",
       "      <td>11.070344</td>\n",
       "      <td>6.944801</td>\n",
       "      <td>10.905146</td>\n",
       "      <td>3.895080</td>\n",
       "      <td>9.070833</td>\n",
       "      <td>9.060055</td>\n",
       "      <td>4.545951</td>\n",
       "      <td>0.0</td>\n",
       "      <td>0</td>\n",
       "      <td>0</td>\n",
       "      <td>0</td>\n",
       "    </tr>\n",
       "    <tr>\n",
       "      <th>1</th>\n",
       "      <td>50</td>\n",
       "      <td>1.35</td>\n",
       "      <td>10.912867</td>\n",
       "      <td>6.515127</td>\n",
       "      <td>10.706381</td>\n",
       "      <td>4.083115</td>\n",
       "      <td>9.159737</td>\n",
       "      <td>9.149429</td>\n",
       "      <td>4.589955</td>\n",
       "      <td>0.0</td>\n",
       "      <td>0</td>\n",
       "      <td>0</td>\n",
       "      <td>0</td>\n",
       "    </tr>\n",
       "    <tr>\n",
       "      <th>2</th>\n",
       "      <td>49</td>\n",
       "      <td>0.93</td>\n",
       "      <td>11.680313</td>\n",
       "      <td>6.679222</td>\n",
       "      <td>11.600485</td>\n",
       "      <td>4.879007</td>\n",
       "      <td>9.005325</td>\n",
       "      <td>8.992584</td>\n",
       "      <td>4.645736</td>\n",
       "      <td>0.0</td>\n",
       "      <td>0</td>\n",
       "      <td>0</td>\n",
       "      <td>0</td>\n",
       "    </tr>\n",
       "    <tr>\n",
       "      <th>3</th>\n",
       "      <td>48</td>\n",
       "      <td>1.08</td>\n",
       "      <td>11.277116</td>\n",
       "      <td>7.032624</td>\n",
       "      <td>11.184108</td>\n",
       "      <td>4.298373</td>\n",
       "      <td>8.667708</td>\n",
       "      <td>8.644425</td>\n",
       "      <td>4.903495</td>\n",
       "      <td>0.0</td>\n",
       "      <td>0</td>\n",
       "      <td>0</td>\n",
       "      <td>0</td>\n",
       "    </tr>\n",
       "    <tr>\n",
       "      <th>4</th>\n",
       "      <td>47</td>\n",
       "      <td>1.28</td>\n",
       "      <td>10.840377</td>\n",
       "      <td>6.848515</td>\n",
       "      <td>10.688288</td>\n",
       "      <td>4.340944</td>\n",
       "      <td>8.729874</td>\n",
       "      <td>8.697389</td>\n",
       "      <td>5.291746</td>\n",
       "      <td>0.0</td>\n",
       "      <td>0</td>\n",
       "      <td>0</td>\n",
       "      <td>0</td>\n",
       "    </tr>\n",
       "    <tr>\n",
       "      <th>...</th>\n",
       "      <td>...</td>\n",
       "      <td>...</td>\n",
       "      <td>...</td>\n",
       "      <td>...</td>\n",
       "      <td>...</td>\n",
       "      <td>...</td>\n",
       "      <td>...</td>\n",
       "      <td>...</td>\n",
       "      <td>...</td>\n",
       "      <td>...</td>\n",
       "      <td>...</td>\n",
       "      <td>...</td>\n",
       "      <td>...</td>\n",
       "    </tr>\n",
       "    <tr>\n",
       "      <th>18244</th>\n",
       "      <td>161</td>\n",
       "      <td>1.63</td>\n",
       "      <td>9.745419</td>\n",
       "      <td>7.624599</td>\n",
       "      <td>7.333154</td>\n",
       "      <td>0.000000</td>\n",
       "      <td>9.510421</td>\n",
       "      <td>9.477908</td>\n",
       "      <td>6.070391</td>\n",
       "      <td>0.0</td>\n",
       "      <td>1</td>\n",
       "      <td>3</td>\n",
       "      <td>53</td>\n",
       "    </tr>\n",
       "    <tr>\n",
       "      <th>18245</th>\n",
       "      <td>160</td>\n",
       "      <td>1.71</td>\n",
       "      <td>9.538855</td>\n",
       "      <td>7.083975</td>\n",
       "      <td>8.141044</td>\n",
       "      <td>0.000000</td>\n",
       "      <td>9.134090</td>\n",
       "      <td>9.098407</td>\n",
       "      <td>5.786284</td>\n",
       "      <td>0.0</td>\n",
       "      <td>1</td>\n",
       "      <td>3</td>\n",
       "      <td>53</td>\n",
       "    </tr>\n",
       "    <tr>\n",
       "      <th>18246</th>\n",
       "      <td>159</td>\n",
       "      <td>1.87</td>\n",
       "      <td>9.530085</td>\n",
       "      <td>7.084159</td>\n",
       "      <td>7.805389</td>\n",
       "      <td>6.591591</td>\n",
       "      <td>9.147945</td>\n",
       "      <td>9.143431</td>\n",
       "      <td>3.768384</td>\n",
       "      <td>0.0</td>\n",
       "      <td>1</td>\n",
       "      <td>3</td>\n",
       "      <td>53</td>\n",
       "    </tr>\n",
       "    <tr>\n",
       "      <th>18247</th>\n",
       "      <td>158</td>\n",
       "      <td>1.93</td>\n",
       "      <td>9.693150</td>\n",
       "      <td>7.332127</td>\n",
       "      <td>8.000363</td>\n",
       "      <td>6.590315</td>\n",
       "      <td>9.302969</td>\n",
       "      <td>9.298401</td>\n",
       "      <td>3.931826</td>\n",
       "      <td>0.0</td>\n",
       "      <td>1</td>\n",
       "      <td>3</td>\n",
       "      <td>53</td>\n",
       "    </tr>\n",
       "    <tr>\n",
       "      <th>18248</th>\n",
       "      <td>157</td>\n",
       "      <td>1.62</td>\n",
       "      <td>9.769418</td>\n",
       "      <td>7.971006</td>\n",
       "      <td>7.765200</td>\n",
       "      <td>5.418453</td>\n",
       "      <td>9.393924</td>\n",
       "      <td>9.391757</td>\n",
       "      <td>3.296207</td>\n",
       "      <td>0.0</td>\n",
       "      <td>1</td>\n",
       "      <td>3</td>\n",
       "      <td>53</td>\n",
       "    </tr>\n",
       "  </tbody>\n",
       "</table>\n",
       "<p>17712 rows × 13 columns</p>\n",
       "</div>"
      ],
      "text/plain": [
       "       Date  AveragePrice  Total Volume      4046       4225      4770  \\\n",
       "0        51          1.33     11.070344  6.944801  10.905146  3.895080   \n",
       "1        50          1.35     10.912867  6.515127  10.706381  4.083115   \n",
       "2        49          0.93     11.680313  6.679222  11.600485  4.879007   \n",
       "3        48          1.08     11.277116  7.032624  11.184108  4.298373   \n",
       "4        47          1.28     10.840377  6.848515  10.688288  4.340944   \n",
       "...     ...           ...           ...       ...        ...       ...   \n",
       "18244   161          1.63      9.745419  7.624599   7.333154  0.000000   \n",
       "18245   160          1.71      9.538855  7.083975   8.141044  0.000000   \n",
       "18246   159          1.87      9.530085  7.084159   7.805389  6.591591   \n",
       "18247   158          1.93      9.693150  7.332127   8.000363  6.590315   \n",
       "18248   157          1.62      9.769418  7.971006   7.765200  5.418453   \n",
       "\n",
       "       Total Bags  Small Bags  Large Bags  XLarge Bags  type  year  region  \n",
       "0        9.070833    9.060055    4.545951          0.0     0     0       0  \n",
       "1        9.159737    9.149429    4.589955          0.0     0     0       0  \n",
       "2        9.005325    8.992584    4.645736          0.0     0     0       0  \n",
       "3        8.667708    8.644425    4.903495          0.0     0     0       0  \n",
       "4        8.729874    8.697389    5.291746          0.0     0     0       0  \n",
       "...           ...         ...         ...          ...   ...   ...     ...  \n",
       "18244    9.510421    9.477908    6.070391          0.0     1     3      53  \n",
       "18245    9.134090    9.098407    5.786284          0.0     1     3      53  \n",
       "18246    9.147945    9.143431    3.768384          0.0     1     3      53  \n",
       "18247    9.302969    9.298401    3.931826          0.0     1     3      53  \n",
       "18248    9.393924    9.391757    3.296207          0.0     1     3      53  \n",
       "\n",
       "[17712 rows x 13 columns]"
      ]
     },
     "execution_count": 104,
     "metadata": {},
     "output_type": "execute_result"
    }
   ],
   "source": [
    "df"
   ]
  },
  {
   "cell_type": "markdown",
   "metadata": {},
   "source": [
    "## Predicting Region of Avocado"
   ]
  },
  {
   "cell_type": "code",
   "execution_count": 105,
   "metadata": {},
   "outputs": [
    {
     "name": "stdout",
     "output_type": "stream",
     "text": [
      "(17712, 11)\n",
      "(17712, 1)\n"
     ]
    }
   ],
   "source": [
    "x_c=df.drop(columns=['region','Date'])\n",
    "y_c=df[[\"region\"]]\n",
    "print(x_c.shape)\n",
    "print(y_c.shape)"
   ]
  },
  {
   "cell_type": "code",
   "execution_count": 106,
   "metadata": {},
   "outputs": [],
   "source": [
    "sc=StandardScaler()\n",
    "sc.fit_transform(x_c)\n",
    "x_c=pd.DataFrame(x_c,columns=x_c.columns)"
   ]
  },
  {
   "cell_type": "code",
   "execution_count": 107,
   "metadata": {},
   "outputs": [
    {
     "name": "stdout",
     "output_type": "stream",
     "text": [
      "accuracy on basis of random state  40 is 0.7846022241231823\n",
      "accuracy on basis of random state  40 is 0.8491017964071856\n",
      "accuracy on basis of random state  41 is 0.7822070145423439\n",
      "accuracy on basis of random state  41 is 0.829940119760479\n",
      "accuracy on basis of random state  42 is 0.7895637296834902\n",
      "accuracy on basis of random state  42 is 0.8424294268605645\n",
      "accuracy on basis of random state  43 is 0.7868263473053893\n",
      "accuracy on basis of random state  43 is 0.8378100940975193\n",
      "accuracy on basis of random state  44 is 0.7804961505560308\n",
      "accuracy on basis of random state  44 is 0.8472198460222412\n",
      "accuracy on basis of random state  45 is 0.7875106928999145\n",
      "accuracy on basis of random state  45 is 0.8434559452523525\n",
      "accuracy on basis of random state  46 is 0.790076988879384\n",
      "accuracy on basis of random state  46 is 0.8419161676646707\n",
      "accuracy on basis of random state  47 is 0.7965782720273739\n",
      "accuracy on basis of random state  47 is 0.8470487596236099\n",
      "accuracy on basis of random state  48 is 0.7866552609067579\n",
      "accuracy on basis of random state  48 is 0.839863130881095\n",
      "accuracy on basis of random state  49 is 0.7885372112917023\n",
      "accuracy on basis of random state  49 is 0.8410607356715141\n",
      "accuracy on basis of random state  50 is 0.7818648417450813\n",
      "accuracy on basis of random state  50 is 0.8379811804961506\n",
      "accuracy on basis of random state  51 is 0.7957228400342172\n",
      "accuracy on basis of random state  51 is 0.8427715996578272\n",
      "accuracy on basis of random state  52 is 0.7774165953806672\n",
      "accuracy on basis of random state  52 is 0.8407185628742515\n",
      "accuracy on basis of random state  53 is 0.7890504704875962\n",
      "accuracy on basis of random state  53 is 0.8449957228400342\n",
      "accuracy on basis of random state  54 is 0.7984602224123182\n",
      "accuracy on basis of random state  54 is 0.8480752780153977\n",
      "accuracy on basis of random state  55 is 0.7907613344739093\n",
      "accuracy on basis of random state  55 is 0.8360992301112061\n",
      "accuracy on basis of random state  56 is 0.7832335329341318\n",
      "accuracy on basis of random state  56 is 0.8451668092386655\n",
      "accuracy on basis of random state  57 is 0.7967493584260051\n",
      "accuracy on basis of random state  57 is 0.843798118049615\n",
      "accuracy on basis of random state  58 is 0.795038494439692\n",
      "accuracy on basis of random state  58 is 0.8473909324208725\n",
      "accuracy on basis of random state  59 is 0.7834046193327631\n",
      "accuracy on basis of random state  59 is 0.8458511548331907\n",
      "accuracy on basis of random state  60 is 0.7929854576561164\n",
      "accuracy on basis of random state  60 is 0.8422583404619333\n",
      "accuracy on basis of random state  61 is 0.804448246364414\n",
      "accuracy on basis of random state  61 is 0.8547476475620188\n",
      "accuracy on basis of random state  62 is 0.7887082976903336\n",
      "accuracy on basis of random state  62 is 0.8388366124893071\n",
      "accuracy on basis of random state  63 is 0.7902480752780154\n",
      "accuracy on basis of random state  63 is 0.8480752780153977\n",
      "accuracy on basis of random state  64 is 0.792814371257485\n",
      "accuracy on basis of random state  64 is 0.8458511548331907\n",
      "accuracy on basis of random state  65 is 0.787852865697177\n",
      "accuracy on basis of random state  65 is 0.8407185628742515\n",
      "accuracy on basis of random state  66 is 0.7941830624465355\n",
      "accuracy on basis of random state  66 is 0.8369546621043628\n",
      "accuracy on basis of random state  67 is 0.795038494439692\n",
      "accuracy on basis of random state  67 is 0.8436270316509837\n",
      "accuracy on basis of random state  68 is 0.7919589392643285\n",
      "accuracy on basis of random state  68 is 0.8446535500427717\n",
      "accuracy on basis of random state  69 is 0.7873396065012831\n",
      "accuracy on basis of random state  69 is 0.8453378956372969\n",
      "accuracy on basis of random state  70 is 0.790590248075278\n",
      "accuracy on basis of random state  70 is 0.837125748502994\n",
      "accuracy on basis of random state  71 is 0.7929854576561164\n",
      "accuracy on basis of random state  71 is 0.8479041916167664\n",
      "accuracy on basis of random state  72 is 0.8054747647562018\n",
      "accuracy on basis of random state  72 is 0.8564585115483319\n",
      "accuracy on basis of random state  73 is 0.7917878528656972\n",
      "accuracy on basis of random state  73 is 0.8470487596236099\n",
      "accuracy on basis of random state  74 is 0.7746792130025663\n",
      "accuracy on basis of random state  74 is 0.839349871685201\n",
      "accuracy on basis of random state  75 is 0.7876817792985458\n",
      "accuracy on basis of random state  75 is 0.8414029084687767\n",
      "accuracy on basis of random state  76 is 0.7890504704875962\n",
      "accuracy on basis of random state  76 is 0.839863130881095\n",
      "accuracy on basis of random state  77 is 0.7849443969204448\n",
      "accuracy on basis of random state  77 is 0.8444824636441403\n",
      "accuracy on basis of random state  78 is 0.7940119760479042\n",
      "accuracy on basis of random state  78 is 0.8497861420017109\n",
      "accuracy on basis of random state  79 is 0.7946963216424294\n",
      "accuracy on basis of random state  79 is 0.8484174508126604\n",
      "accuracy on basis of random state  80 is 0.7854576561163388\n",
      "accuracy on basis of random state  80 is 0.8448246364414029\n",
      "accuracy on basis of random state  81 is 0.7890504704875962\n",
      "accuracy on basis of random state  81 is 0.8410607356715141\n",
      "accuracy on basis of random state  82 is 0.795551753635586\n",
      "accuracy on basis of random state  82 is 0.8491017964071856\n",
      "accuracy on basis of random state  83 is 0.795551753635586\n",
      "accuracy on basis of random state  83 is 0.8461933276304534\n",
      "accuracy on basis of random state  84 is 0.7892215568862275\n",
      "accuracy on basis of random state  84 is 0.8470487596236099\n",
      "accuracy on basis of random state  85 is 0.7866552609067579\n",
      "accuracy on basis of random state  85 is 0.8429426860564585\n",
      "accuracy on basis of random state  86 is 0.8008554319931566\n",
      "accuracy on basis of random state  86 is 0.8456800684345595\n",
      "accuracy on basis of random state  87 is 0.7904191616766467\n",
      "accuracy on basis of random state  87 is 0.8432848588537212\n",
      "accuracy on basis of random state  88 is 0.778956372968349\n",
      "accuracy on basis of random state  88 is 0.8400342172797263\n",
      "accuracy on basis of random state  89 is 0.7854576561163388\n",
      "accuracy on basis of random state  89 is 0.841573994867408\n",
      "----------------\n",
      "max accuracy on basis of random state  72 is 0.8564585115483319 and model is KNeighborsClassifier()\n"
     ]
    }
   ],
   "source": [
    "model=[DecisionTreeClassifier(),KNeighborsClassifier()]\n",
    "max_accuracy_score=0\n",
    "for r_state in range(40,90):\n",
    "    train_xc,test_xc,train_yc,test_yc=train_test_split(x_c,y_c,random_state=r_state,test_size=0.33)\n",
    "    for i_c in model:\n",
    "        i_c.fit(train_xc,train_yc)\n",
    "        pre_c=i_c.predict(test_xc)\n",
    "        ac_score=accuracy_score(test_yc,pre_c)\n",
    "        print(\"accuracy on basis of random state \",r_state,\"is\",ac_score)\n",
    "        if ac_score>max_accuracy_score:\n",
    "            max_accuracy_score=ac_score\n",
    "            final_state=r_state\n",
    "            final_model=i_c\n",
    "print(\"----------------\")\n",
    "print(\"max accuracy on basis of random state \",final_state,\"is\",max_accuracy_score,\"and model is\",final_model)"
   ]
  },
  {
   "cell_type": "code",
   "execution_count": 108,
   "metadata": {},
   "outputs": [
    {
     "data": {
      "text/plain": [
       "{'n_neighbors': 1}"
      ]
     },
     "execution_count": 108,
     "metadata": {},
     "output_type": "execute_result"
    }
   ],
   "source": [
    "#Checking the best parameter for prediction of KNeighborsClassifier using GridSearchCV\n",
    "train_xc,test_xc,train_yc,test_yc=train_test_split(x_c,y_c,random_state=72,test_size=0.33)\n",
    "KNC=KNeighborsClassifier()\n",
    "parameters={'n_neighbors' : range(1,30)}\n",
    "gridsearch=GridSearchCV(KNC,parameters)\n",
    "gridsearch.fit(train_xc,train_yc)\n",
    "gridsearch.best_params_"
   ]
  },
  {
   "cell_type": "code",
   "execution_count": 109,
   "metadata": {},
   "outputs": [
    {
     "name": "stdout",
     "output_type": "stream",
     "text": [
      "Accuracy score: 87.44225834046193\n"
     ]
    }
   ],
   "source": [
    "KNC=KNeighborsClassifier(n_neighbors=1)\n",
    "KNC.fit(train_xc,train_yc)\n",
    "predc=KNC.predict(test_xc)\n",
    "acu_score=accuracy_score(test_yc,predc)\n",
    "print(\"Accuracy score:\",acu_score*100)"
   ]
  },
  {
   "cell_type": "code",
   "execution_count": 110,
   "metadata": {},
   "outputs": [
    {
     "name": "stdout",
     "output_type": "stream",
     "text": [
      "Cross_val_score :  85.76880594172538\n",
      "Mean Score :  85.76880594172538\n",
      "STD score :  0.0\n"
     ]
    }
   ],
   "source": [
    "#Calculating the scores of different parameters\n",
    "score=cross_val_score(KNC,x_c,y_c,cv=100,scoring='accuracy').mean()\n",
    "print(\"Cross_val_score : \",score*100)\n",
    "print('Mean Score : ',score.mean()*100)\n",
    "print('STD score : ',score.std())"
   ]
  },
  {
   "cell_type": "markdown",
   "metadata": {},
   "source": [
    "Accuracy is improved by 2%"
   ]
  },
  {
   "cell_type": "markdown",
   "metadata": {},
   "source": [
    "Roc Curve"
   ]
  },
  {
   "cell_type": "code",
   "execution_count": 111,
   "metadata": {},
   "outputs": [
    {
     "data": {
      "text/plain": [
       "array([0., 0., 0., ..., 0., 0., 0.])"
      ]
     },
     "execution_count": 111,
     "metadata": {},
     "output_type": "execute_result"
    }
   ],
   "source": [
    "pred_prob=KNC.predict_proba(test_xc)[:,1]\n",
    "pred_prob"
   ]
  },
  {
   "cell_type": "code",
   "execution_count": 112,
   "metadata": {},
   "outputs": [],
   "source": [
    "fpr,tpr,thresholds=roc_curve(test_yc,pred_prob,pos_label=True)"
   ]
  },
  {
   "cell_type": "code",
   "execution_count": 113,
   "metadata": {},
   "outputs": [
    {
     "name": "stdout",
     "output_type": "stream",
     "text": [
      "[0.         0.00470138 1.        ]\n",
      "\n",
      "\n",
      "[0.         0.82352941 1.        ]\n",
      "\n",
      "\n",
      "[2. 1. 0.]\n"
     ]
    }
   ],
   "source": [
    "print(fpr)\n",
    "print(\"\\n\")\n",
    "print(tpr)\n",
    "print(\"\\n\")\n",
    "print(thresholds)"
   ]
  },
  {
   "cell_type": "code",
   "execution_count": 114,
   "metadata": {},
   "outputs": [
    {
     "data": {
      "image/png": "[encoded data removed]",
      "text/plain": [
       "<Figure size 432x288 with 1 Axes>"
      ]
     },
     "metadata": {
      "needs_background": "light"
     },
     "output_type": "display_data"
    }
   ],
   "source": [
    "#Plotting the graph which tells us about the area under curve,more the area under curve more willbe the better prediction\n",
    "plt.plot([0,1],[0,1],'k--')\n",
    "plt.plot(fpr,tpr,label='KNeighbourClassifier')\n",
    "plt.xlabel('False positive rate')\n",
    "plt.ylabel('True positive rate')\n",
    "plt.title('KNeighboursClassifier')\n",
    "plt.show()"
   ]
  },
  {
   "cell_type": "markdown",
   "metadata": {},
   "source": [
    "## Predicting Average Price of Avocado"
   ]
  },
  {
   "cell_type": "code",
   "execution_count": 115,
   "metadata": {},
   "outputs": [
    {
     "name": "stdout",
     "output_type": "stream",
     "text": [
      "(17712, 11)\n",
      "(17712, 1)\n"
     ]
    }
   ],
   "source": [
    "x=df.drop(columns=['AveragePrice','Date'])\n",
    "y=df[[\"AveragePrice\"]]\n",
    "print(x.shape)\n",
    "print(y.shape)"
   ]
  },
  {
   "cell_type": "code",
   "execution_count": 116,
   "metadata": {},
   "outputs": [
    {
     "name": "stdout",
     "output_type": "stream",
     "text": [
      "R2 score on basis of random state  75 is 0.6682288018128771\n",
      "R2 score on basis of random state  75 is 0.8213750651304655\n",
      "R2 score on basis of random state  75 is 0.5187413553763229\n",
      "R2 score on basis of random state  75 is 0.5379251316566543\n",
      "R2 score on basis of random state  75 is 0.6779895844376542\n",
      "R2 score on basis of random state  76 is 0.686173311401941\n",
      "R2 score on basis of random state  76 is 0.8229196009303598\n",
      "R2 score on basis of random state  76 is 0.4766351885015436\n",
      "R2 score on basis of random state  76 is 0.5338779875088909\n",
      "R2 score on basis of random state  76 is 0.6790803327010515\n",
      "R2 score on basis of random state  77 is 0.6687856850629454\n",
      "R2 score on basis of random state  77 is 0.8229149062013713\n",
      "R2 score on basis of random state  77 is 0.49447433170314326\n",
      "R2 score on basis of random state  77 is 0.5394187498290361\n",
      "R2 score on basis of random state  77 is 0.6761467510925625\n",
      "R2 score on basis of random state  78 is 0.6725835672018528\n",
      "R2 score on basis of random state  78 is 0.825374904853326\n",
      "R2 score on basis of random state  78 is 0.48944266537466696\n",
      "R2 score on basis of random state  78 is 0.5532796783858023\n",
      "R2 score on basis of random state  78 is 0.685763489790668\n",
      "R2 score on basis of random state  79 is 0.704187107707418\n",
      "R2 score on basis of random state  79 is 0.8164084378545575\n",
      "R2 score on basis of random state  79 is 0.515644114919884\n",
      "R2 score on basis of random state  79 is 0.5493996435504613\n",
      "R2 score on basis of random state  79 is 0.691250025585964\n",
      "R2 score on basis of random state  80 is 0.6690515408447157\n",
      "R2 score on basis of random state  80 is 0.825276141979697\n",
      "R2 score on basis of random state  80 is 0.5112546389596795\n",
      "R2 score on basis of random state  80 is 0.5411467082355355\n",
      "R2 score on basis of random state  80 is 0.6817163304305438\n",
      "R2 score on basis of random state  81 is 0.6536345841165161\n",
      "R2 score on basis of random state  81 is 0.8174655065392618\n",
      "R2 score on basis of random state  81 is 0.4870120764234134\n",
      "R2 score on basis of random state  81 is 0.5433554463730687\n",
      "R2 score on basis of random state  81 is 0.6857853330262988\n",
      "R2 score on basis of random state  82 is 0.6842501564990944\n",
      "R2 score on basis of random state  82 is 0.8262737462225798\n",
      "R2 score on basis of random state  82 is 0.5069821760250124\n",
      "R2 score on basis of random state  82 is 0.5391193370784901\n",
      "R2 score on basis of random state  82 is 0.6895248418733347\n",
      "R2 score on basis of random state  83 is 0.6814801584214456\n",
      "R2 score on basis of random state  83 is 0.8178663420210798\n",
      "R2 score on basis of random state  83 is 0.5075288655416628\n",
      "R2 score on basis of random state  83 is 0.5317388088560419\n",
      "R2 score on basis of random state  83 is 0.6779681536262174\n",
      "R2 score on basis of random state  84 is 0.6476456734947981\n",
      "R2 score on basis of random state  84 is 0.8138013500523166\n",
      "R2 score on basis of random state  84 is 0.5014087497429599\n",
      "R2 score on basis of random state  84 is 0.5386246247359058\n",
      "R2 score on basis of random state  84 is 0.680775875330234\n",
      "R2 score on basis of random state  85 is 0.6675372218090473\n",
      "R2 score on basis of random state  85 is 0.8193354806803929\n",
      "R2 score on basis of random state  85 is 0.5242306958753133\n",
      "R2 score on basis of random state  85 is 0.5452202631392327\n",
      "R2 score on basis of random state  85 is 0.6821784644019411\n",
      "R2 score on basis of random state  86 is 0.6803272724297287\n",
      "R2 score on basis of random state  86 is 0.8241820998805028\n",
      "R2 score on basis of random state  86 is 0.5099542572966987\n",
      "R2 score on basis of random state  86 is 0.5374787443630732\n",
      "R2 score on basis of random state  86 is 0.6778729018650806\n",
      "R2 score on basis of random state  87 is 0.6522513778347976\n",
      "R2 score on basis of random state  87 is 0.820414832088305\n",
      "R2 score on basis of random state  87 is 0.505737076508501\n",
      "R2 score on basis of random state  87 is 0.5505937683635882\n",
      "R2 score on basis of random state  87 is 0.6842715597004834\n",
      "R2 score on basis of random state  88 is 0.6864706189235481\n",
      "R2 score on basis of random state  88 is 0.8179503193511066\n",
      "R2 score on basis of random state  88 is 0.48197062346488617\n",
      "R2 score on basis of random state  88 is 0.5410256146659211\n",
      "R2 score on basis of random state  88 is 0.680796726648106\n",
      "R2 score on basis of random state  89 is 0.6840840952001748\n",
      "R2 score on basis of random state  89 is 0.8150595470043506\n",
      "R2 score on basis of random state  89 is 0.5071467889853668\n",
      "R2 score on basis of random state  89 is 0.5489850668448905\n",
      "R2 score on basis of random state  89 is 0.6823232759020674\n",
      "----------------\n",
      "max accuracy on basis of random state  82 is 0.8262737462225798 and model is KNeighborsRegressor()\n"
     ]
    }
   ],
   "source": [
    "from sklearn.linear_model import LinearRegression\n",
    "from sklearn.neighbors import KNeighborsRegressor\n",
    "from sklearn.ensemble import AdaBoostRegressor\n",
    "from sklearn.ensemble import GradientBoostingRegressor\n",
    "from sklearn.tree import DecisionTreeRegressor\n",
    "from sklearn.metrics import r2_score\n",
    "model=[DecisionTreeRegressor(),KNeighborsRegressor(),AdaBoostRegressor(),LinearRegression(),GradientBoostingRegressor()]\n",
    "max_r2_score=0\n",
    "for r_state in range(75,90):\n",
    "    train_x,test_x,train_y,test_y=train_test_split(x,y,random_state=r_state,test_size=0.33)\n",
    "    for i in model:\n",
    "        i.fit(train_x,train_y)\n",
    "        pre=i.predict(test_x)\n",
    "        r2_sc=r2_score(test_y,pre)\n",
    "        print(\"R2 score on basis of random state \",r_state,\"is\",r2_sc)\n",
    "        if r2_sc>max_r2_score:\n",
    "            max_r2_score=r2_sc\n",
    "            final_state=r_state\n",
    "            final_model=i\n",
    "print(\"----------------\")\n",
    "print(\"max accuracy on basis of random state \",final_state,\"is\",max_r2_score,\"and model is\",final_model)"
   ]
  },
  {
   "cell_type": "code",
   "execution_count": 117,
   "metadata": {},
   "outputs": [
    {
     "data": {
      "text/plain": [
       "{'n_neighbors': 3}"
      ]
     },
     "execution_count": 117,
     "metadata": {},
     "output_type": "execute_result"
    }
   ],
   "source": [
    "#Checking the best parameter for prediction of KNeighborsRegressor using GridSearchCV\n",
    "train_x,test_x,train_y,test_y=train_test_split(x,y,random_state=82,test_size=0.33)\n",
    "KN=KNeighborsRegressor()\n",
    "parameters={'n_neighbors' : range(1,30)}\n",
    "gridsearch=GridSearchCV(KN,parameters)\n",
    "gridsearch.fit(train_x,train_y)\n",
    "gridsearch.best_params_"
   ]
  },
  {
   "cell_type": "code",
   "execution_count": 118,
   "metadata": {},
   "outputs": [
    {
     "name": "stdout",
     "output_type": "stream",
     "text": [
      "Accuracy score: 82.83355817726734\n"
     ]
    }
   ],
   "source": [
    "KNN=KNeighborsRegressor(n_neighbors=2)\n",
    "KNN.fit(train_x,train_y)\n",
    "pred=KNN.predict(test_x)\n",
    "r2_sc=r2_score(test_y,pred)\n",
    "print(\"Accuracy score:\",r2_sc*100)"
   ]
  },
  {
   "cell_type": "code",
   "execution_count": 119,
   "metadata": {},
   "outputs": [
    {
     "name": "stdout",
     "output_type": "stream",
     "text": [
      "Mean Absolute Error: 0.10981266039349873\n",
      "Mean Square Error: 0.024900141146278865\n",
      "Root Mean Absolute Error: 0.3313799336011442\n"
     ]
    }
   ],
   "source": [
    "from sklearn.metrics import mean_squared_error,mean_absolute_error\n",
    "print('Mean Absolute Error:',mean_absolute_error(test_y,pred))\n",
    "print('Mean Square Error:',mean_squared_error(test_y,pred))\n",
    "print('Root Mean Absolute Error:',np.sqrt(mean_absolute_error(test_y,pred)))"
   ]
  },
  {
   "cell_type": "code",
   "execution_count": 120,
   "metadata": {},
   "outputs": [
    {
     "data": {
      "text/plain": [
       "Text(0, 0.5, 'Predicted_y')"
      ]
     },
     "execution_count": 120,
     "metadata": {},
     "output_type": "execute_result"
    },
    {
     "data": {
      "image/png": "[encoded data removed]",
      "text/plain": [
       "<Figure size 432x288 with 1 Axes>"
      ]
     },
     "metadata": {
      "needs_background": "light"
     },
     "output_type": "display_data"
    }
   ],
   "source": [
    "#Checking difference between actual and predicted values\n",
    "plt.scatter(x=test_y,y=pred)\n",
    "plt.xlabel('y_test')\n",
    "plt.ylabel('Predicted_y')"
   ]
  },
  {
   "cell_type": "code",
   "execution_count": 121,
   "metadata": {},
   "outputs": [],
   "source": [
    "import pickle\n",
    "KNC=KNeighborsClassifier(n_neighbors=1)\n",
    "KNC.fit(train_xc,train_yc)\n",
    "pickle.dump(KNC, open('avocado_region.pkl','wb'))"
   ]
  },
  {
   "cell_type": "code",
   "execution_count": 122,
   "metadata": {},
   "outputs": [],
   "source": [
    "# Loading model to compare the results\n",
    "loaded = pickle.load(open('avocado_region.pkl','rb'))"
   ]
  },
  {
   "cell_type": "code",
   "execution_count": 123,
   "metadata": {},
   "outputs": [
    {
     "data": {
      "text/plain": [
       "array([18, 53, 34, ..., 13, 46,  4])"
      ]
     },
     "execution_count": 123,
     "metadata": {},
     "output_type": "execute_result"
    }
   ],
   "source": [
    "predc=KNC.predict(test_xc)\n",
    "predc"
   ]
  },
  {
   "cell_type": "code",
   "execution_count": 124,
   "metadata": {},
   "outputs": [],
   "source": [
    "import pickle\n",
    "KNN=KNeighborsRegressor(n_neighbors=2)\n",
    "KNN.fit(train_x,train_y)\n",
    "pickle.dump(KNN, open('avocado_AveragePrice.pkl','wb'))"
   ]
  },
  {
   "cell_type": "code",
   "execution_count": 125,
   "metadata": {},
   "outputs": [],
   "source": [
    "# Loading model to compare the results\n",
    "loaded = pickle.load(open('avocado_AveragePrice.pkl','rb'))"
   ]
  },
  {
   "cell_type": "code",
   "execution_count": 126,
   "metadata": {},
   "outputs": [
    {
     "data": {
      "text/plain": [
       "array([[1.405],\n",
       "       [0.955],\n",
       "       [1.14 ],\n",
       "       ...,\n",
       "       [0.84 ],\n",
       "       [1.015],\n",
       "       [1.38 ]])"
      ]
     },
     "execution_count": 126,
     "metadata": {},
     "output_type": "execute_result"
    }
   ],
   "source": [
    "pred=KNN.predict(test_x)\n",
    "pred"
   ]
  }
 ],
 "metadata": {
  "kernelspec": {
   "display_name": "Python 3",
   "language": "python",
   "name": "python3"
  },
  "language_info": {
   "codemirror_mode": {
    "name": "ipython",
    "version": 3
   },
   "file_extension": ".py",
   "mimetype": "text/x-python",
   "name": "python",
   "nbconvert_exporter": "python",
   "pygments_lexer": "ipython3",
   "version": "3.8.3"
  }
 },
 "nbformat": 4,
 "nbformat_minor": 4
}
